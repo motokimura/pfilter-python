{
 "cells": [
  {
   "cell_type": "code",
   "execution_count": 1,
   "metadata": {},
   "outputs": [],
   "source": [
    "import numpy as np\n",
    "import math"
   ]
  },
  {
   "cell_type": "markdown",
   "metadata": {},
   "source": [
    "# Utility functions"
   ]
  },
  {
   "cell_type": "code",
   "execution_count": 2,
   "metadata": {},
   "outputs": [],
   "source": [
    "def world2local(x, points):\n",
    "    '''\n",
    "    Arguments:\n",
    "        x: state vectors (= [[x, y, theta], ...], shape of [n, 3])\n",
    "        points: positions in world coordinate (= [[x1, y1], [x2, y2], ...], shape of [m, 2])\n",
    "    Return:\n",
    "        positions in local coordinates ( = [[[x1, y1], [x2, y2], ...], ...], shape of [n, m, 2])\n",
    "    '''\n",
    "    \n",
    "    n = x.shape[0]\n",
    "    m = points.shape[0]\n",
    "    \n",
    "    theta = x[:, 2] # shape of [n,]\n",
    "    \n",
    "    points = points[np.newaxis, :, :]     # shape of [1, m, 2]\n",
    "    points = np.repeat(points, n, axis=0) # shape of [n, m, 2]\n",
    "    x = x[:, np.newaxis, :2]              # shape of [n, 1, 2]\n",
    "    d = points - x                        # shape of [n, m, 2]\n",
    "    d = d[:, :, :, np.newaxis]            # shape of [n, m, 2, 1]\n",
    "    \n",
    "    cos, sin = np.cos(theta), np.sin(theta) # shape of [n,]\n",
    "    rot = np.array([\n",
    "        [ cos, sin],\n",
    "        [-sin, cos]\n",
    "    ])                               # shape of [2, 2, n]\n",
    "    rot = rot.transpose(2, 0, 1)     # shape of [n, 2, 2]\n",
    "    rot = rot[:, np.newaxis, :, :]   # shape of [n, 1, 2, 2]\n",
    "    rot = np.repeat(rot, m, axis=1)  # shape of [n, m, 2, 2]\n",
    "    \n",
    "    points_local = np.matmul(rot, d)        # shape of [n, m, 2, 1]\n",
    "    points_local = points_local[:, :, :, 0] # shape of [n, m, 2]\n",
    "    \n",
    "    return points_local"
   ]
  },
  {
   "cell_type": "markdown",
   "metadata": {},
   "source": [
    "# State transition model"
   ]
  },
  {
   "cell_type": "code",
   "execution_count": 3,
   "metadata": {},
   "outputs": [],
   "source": [
    "def f(x, u, w, dt):\n",
    "    '''\n",
    "    Arguments:\n",
    "        x: state vectors (= [[x, y, theta], ...], shape of [n, 3])\n",
    "        u: control input vector (= [v, omega], shape of [2,])\n",
    "        w: control error vectors (= [[w_v, w_omega, gamma], ...], shape of [n, 3])\n",
    "        dt: integral interval (scalar)\n",
    "    Return:\n",
    "        updated state vector (same shape w/ x)\n",
    "    '''\n",
    "    \n",
    "    theta = x[:, 2]\n",
    "    \n",
    "    v = u[0] + w[:, 0]\n",
    "    omega = u[1] + w[:, 1]\n",
    "    gamma = w[:, 2]\n",
    "    \n",
    "    r = v / omega\n",
    "    \n",
    "    dx = -r * np.sin(theta) + r * np.sin(theta + omega * dt)\n",
    "    dy =  r * np.cos(theta) - r * np.cos(theta + omega * dt)\n",
    "    dtheta = omega * dt + gamma * dt\n",
    "    \n",
    "    delta = np.array([\n",
    "        dx,\n",
    "        dy,\n",
    "        dtheta\n",
    "    ]).T\n",
    "    \n",
    "    x_new = x + delta\n",
    "    \n",
    "    return x_new"
   ]
  },
  {
   "cell_type": "markdown",
   "metadata": {},
   "source": [
    "# Observation model"
   ]
  },
  {
   "cell_type": "code",
   "execution_count": 4,
   "metadata": {},
   "outputs": [],
   "source": [
    "landmarks = np.array([\n",
    "    [ 5.0,  5.0],\n",
    "    [ 2.0, -3.0],\n",
    "    [-3.0,  4.0],\n",
    "    [-5.0, -1.0],\n",
    "    [ 0.0,  0.0]\n",
    "])\n",
    "\n",
    "def g(x, v):\n",
    "    '''\n",
    "    Arguments:\n",
    "        x: state vectors (= [[x, y, theta], ...], shape of [n, 3])\n",
    "        v: observation error vectors ( = [[[x1, y1], [x2, y2], ...], ...], shape of [n, m, 2])\n",
    "    Return:\n",
    "        landmark positions observed from local coordinates (same shape w/ v)\n",
    "    '''\n",
    "    \n",
    "    z = world2local(x, landmarks) + v\n",
    "    \n",
    "    return z"
   ]
  },
  {
   "cell_type": "code",
   "execution_count": null,
   "metadata": {},
   "outputs": [],
   "source": []
  }
 ],
 "metadata": {
  "kernelspec": {
   "display_name": "Python 3",
   "language": "python",
   "name": "python3"
  },
  "language_info": {
   "codemirror_mode": {
    "name": "ipython",
    "version": 3
   },
   "file_extension": ".py",
   "mimetype": "text/x-python",
   "name": "python",
   "nbconvert_exporter": "python",
   "pygments_lexer": "ipython3",
   "version": "3.5.5"
  }
 },
 "nbformat": 4,
 "nbformat_minor": 2
}
