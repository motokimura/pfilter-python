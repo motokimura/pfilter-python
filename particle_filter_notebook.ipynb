{
 "cells": [
  {
   "cell_type": "code",
   "execution_count": 1,
   "metadata": {},
   "outputs": [],
   "source": [
    "import numpy as np"
   ]
  },
  {
   "cell_type": "markdown",
   "metadata": {},
   "source": [
    "# State transition model"
   ]
  },
  {
   "cell_type": "code",
   "execution_count": 2,
   "metadata": {},
   "outputs": [],
   "source": [
    "def f(x, u, w, dt):\n",
    "    '''\n",
    "    Arguments:\n",
    "        x: state vectors of each particle (= [[x, y, theta], ...]^T)\n",
    "        u: control input vectors of each particle (= [[v, omega], ...]^T)\n",
    "        w: noise vectors of each particle (= [[w_v, w_omega, gamma], ...]^T)\n",
    "        dt: integral interval (scalar)\n",
    "    Return:\n",
    "        updated state vector (same size w/ x)\n",
    "    '''\n",
    "    \n",
    "    theta = x[2, :]\n",
    "    \n",
    "    v = u[0, :] + w[0, :]\n",
    "    omega = u[1, :] + w[1, :]\n",
    "    r = v / omega\n",
    "    \n",
    "    gamma = w[2, :]\n",
    "    \n",
    "    dx = -r * np.sin(theta) + r * np.sin(theta + omega * dt)\n",
    "    dy =  r * np.cos(theta) - r * np.cos(theta + omega * dt)\n",
    "    dtheta = omega * dt + gamma * dt\n",
    "    \n",
    "    delta = np.array([\n",
    "        dx,\n",
    "        dy,\n",
    "        dtheta\n",
    "    ])\n",
    "    \n",
    "    x_new = x + delta\n",
    "    \n",
    "    return x_new"
   ]
  },
  {
   "cell_type": "code",
   "execution_count": null,
   "metadata": {},
   "outputs": [],
   "source": []
  }
 ],
 "metadata": {
  "kernelspec": {
   "display_name": "Python 3",
   "language": "python",
   "name": "python3"
  },
  "language_info": {
   "codemirror_mode": {
    "name": "ipython",
    "version": 3
   },
   "file_extension": ".py",
   "mimetype": "text/x-python",
   "name": "python",
   "nbconvert_exporter": "python",
   "pygments_lexer": "ipython3",
   "version": "3.5.5"
  }
 },
 "nbformat": 4,
 "nbformat_minor": 2
}
