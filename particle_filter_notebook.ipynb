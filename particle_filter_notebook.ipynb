{
 "cells": [
  {
   "cell_type": "code",
   "execution_count": 1,
   "metadata": {},
   "outputs": [],
   "source": [
    "import math\n",
    "import numpy as np\n",
    "from scipy.stats import multivariate_normal"
   ]
  },
  {
   "cell_type": "markdown",
   "metadata": {},
   "source": [
    "# State transition model"
   ]
  },
  {
   "cell_type": "code",
   "execution_count": 2,
   "metadata": {},
   "outputs": [],
   "source": [
    "def f(x, u, w, dt):\n",
    "    '''\n",
    "    Arguments:\n",
    "        x: state vectors (= [[x, y, theta], ...], shape of [n, 3])\n",
    "        u: control input vector (= [v, omega], shape of [2,])\n",
    "        w: control error vectors (= [[w_v, w_omega, gamma], ...], shape of [n, 3])\n",
    "        dt: integral interval (scalar)\n",
    "    Return:\n",
    "        updated state vector (same shape w/ x)\n",
    "    '''\n",
    "    \n",
    "    theta = x[:, 2]\n",
    "    \n",
    "    v = u[0] + w[:, 0]\n",
    "    omega = u[1] + w[:, 1]\n",
    "    gamma = w[:, 2]\n",
    "    \n",
    "    r = v / omega\n",
    "    \n",
    "    dx = -r * np.sin(theta) + r * np.sin(theta + omega * dt)\n",
    "    dy =  r * np.cos(theta) - r * np.cos(theta + omega * dt)\n",
    "    dtheta = omega * dt + gamma * dt\n",
    "    \n",
    "    delta = np.array([\n",
    "        dx,\n",
    "        dy,\n",
    "        dtheta\n",
    "    ]).T\n",
    "    \n",
    "    x_new = x + delta\n",
    "    \n",
    "    return x_new"
   ]
  },
  {
   "cell_type": "markdown",
   "metadata": {},
   "source": [
    "# Observation model"
   ]
  },
  {
   "cell_type": "code",
   "execution_count": 3,
   "metadata": {},
   "outputs": [],
   "source": [
    "def world2local(x, points):\n",
    "    '''\n",
    "    Arguments:\n",
    "        x: state vectors (= [[x, y, theta], ...], shape of [n, 3])\n",
    "        points: positions in world coordinate (= [[x1, y1], [x2, y2], ...], shape of [m, 2])\n",
    "    Return:\n",
    "        positions in local coordinates ( = [[[x1, y1], [x2, y2], ...], ...], shape of [n, m, 2])\n",
    "    '''\n",
    "    \n",
    "    n = x.shape[0]\n",
    "    m = points.shape[0]\n",
    "    \n",
    "    theta = x[:, 2] # shape of [n,]\n",
    "    \n",
    "    points = points[np.newaxis, :, :]     # shape of [1, m, 2]\n",
    "    points = np.repeat(points, n, axis=0) # shape of [n, m, 2]\n",
    "    x = x[:, np.newaxis, :2]              # shape of [n, 1, 2]\n",
    "    d = points - x                        # shape of [n, m, 2]\n",
    "    d = d[:, :, :, np.newaxis]            # shape of [n, m, 2, 1]\n",
    "    \n",
    "    cos, sin = np.cos(theta), np.sin(theta) # shape of [n,]\n",
    "    rot = np.array([\n",
    "        [ cos, sin],\n",
    "        [-sin, cos]\n",
    "    ])                               # shape of [2, 2, n]\n",
    "    rot = rot.transpose(2, 0, 1)     # shape of [n, 2, 2]\n",
    "    rot = rot[:, np.newaxis, :, :]   # shape of [n, 1, 2, 2]\n",
    "    rot = np.repeat(rot, m, axis=1)  # shape of [n, m, 2, 2]\n",
    "    \n",
    "    points_local = rot @ d                  # shape of [n, m, 2, 1]\n",
    "    points_local = points_local[:, :, :, 0] # shape of [n, m, 2]\n",
    "    \n",
    "    return points_local"
   ]
  },
  {
   "cell_type": "code",
   "execution_count": 4,
   "metadata": {},
   "outputs": [],
   "source": [
    "landmarks = np.array([\n",
    "    [ 5.0,  5.0],\n",
    "    [ 2.0, -3.0],\n",
    "    [-3.0,  4.0],\n",
    "    [-5.0, -1.0],\n",
    "    [ 0.0,  0.0]\n",
    "])\n",
    "\n",
    "def g(x, v):\n",
    "    '''\n",
    "    Arguments:\n",
    "        x: state vectors (= [[x, y, theta], ...], shape of [n, 3])\n",
    "        v: observation error vectors ( = [[[x1, y1], [x2, y2], ...], ...], shape of [n, m, 2])\n",
    "    Return:\n",
    "        landmark positions observed from local coordinates (same shape w/ v)\n",
    "    '''\n",
    "    \n",
    "    z = world2local(x, landmarks) + v\n",
    "    \n",
    "    return z"
   ]
  },
  {
   "cell_type": "markdown",
   "metadata": {},
   "source": [
    "# Propagation of particle states"
   ]
  },
  {
   "cell_type": "code",
   "execution_count": 5,
   "metadata": {},
   "outputs": [],
   "source": [
    "# u_var_coef: coefficient of control error variance\n",
    "# [var_v, var_omega, var_gamma] = np.dot(u_var_coef, u**2) \n",
    "u_var_coef = np.array([\n",
    "    [0.05**2, 0.0],\n",
    "    [0.0, 0.05**2],\n",
    "    [0.0, 0.05**2]\n",
    "])\n",
    "\n",
    "\n",
    "def propagate(x_p, u, dt):\n",
    "    '''\n",
    "    Arguments:\n",
    "        x_p: state vectors of the particles (= [[x, y, theta], ...], shape of [n, 3])\n",
    "        u: control input vector (= [v, omega], shape of [2,])\n",
    "        dt: integral interval (scalar)\n",
    "    Return\n",
    "        state vectors propagated by the state transition model (same shape w/ x_p)\n",
    "    '''\n",
    "    \n",
    "    n = x_p.shape[0]\n",
    "    \n",
    "    mean = [0.0, 0.0, 0.0]\n",
    "    var = u_var_coef @ (u ** 2)\n",
    "    w = multivariate_normal.rvs(mean, np.diag(var), n)\n",
    "    \n",
    "    x_p = f(x_p, u, w, dt)\n",
    "    \n",
    "    return x_p"
   ]
  },
  {
   "cell_type": "markdown",
   "metadata": {},
   "source": [
    "# Updation of particle likelihoods"
   ]
  },
  {
   "cell_type": "code",
   "execution_count": 6,
   "metadata": {},
   "outputs": [],
   "source": [
    "def normalize_weights(likelihood):\n",
    "    '''\n",
    "    Arguments:\n",
    "        likelihood: likelihoods of the particles (= [w1, w2, ...], shape of [n,])\n",
    "    Return\n",
    "        normalized likelihoods (same shape w/ likelihood)\n",
    "    '''\n",
    "    \n",
    "    likelihood_sum = np.sum(likelihood)\n",
    "    likelihood = likelihood / likelihood_sum\n",
    "    \n",
    "    n = likelihood.shape[0]\n",
    "    likelihood[np.isnan(likelihood)] = 0.0\n",
    "    \n",
    "    return likelihood"
   ]
  },
  {
   "cell_type": "code",
   "execution_count": 7,
   "metadata": {},
   "outputs": [],
   "source": [
    "# z_var_coef: coefficient of observation error variance\n",
    "# [var_z1, var_z2] = np.dot(z_var_coef, z**2) \n",
    "z_var_coef = np.array([\n",
    "    [0.05**2, 0.0],\n",
    "    [0.0, 0.05**2]\n",
    "])\n",
    "\n",
    "def update(x_p, z, likelihood):\n",
    "    '''\n",
    "    Arguments:\n",
    "        x_p: state vectors of the particles (= [[x, y, theta], ...], shape of [n, 3])\n",
    "        z: landmark positions observed from local coordinates ( = [[x1, y1], [x2, y2], ...], shape of [m, 2])\n",
    "        likelihood: likelihoods of the particles (= [w1, w2, ...], shape of [n,])\n",
    "    Return\n",
    "        likelihoods updated by the obserbvation (same shape w/ likelihood)\n",
    "    '''\n",
    "    \n",
    "    n = x_p.shape[0]\n",
    "    m = z.shape[0]\n",
    "    \n",
    "    z_p = g(x_p, np.zeros(shape=[n, m, 2]))\n",
    "    z_p = z_p.reshape(n, -1)\n",
    "    \n",
    "    mean = np.zeros(shape=[m * 2,])\n",
    "    var = (z ** 2) @ z_var_coef\n",
    "    cov = np.diag(var.flatten())\n",
    "    \n",
    "    z = z.flatten()\n",
    "    z = z[np.newaxis, :]\n",
    "    \n",
    "    likelihood = multivariate_normal.pdf(z_p - z, mean, cov) * likelihood\n",
    "    likelihood = normalize_weights(likelihood)\n",
    "    \n",
    "    return likelihood"
   ]
  },
  {
   "cell_type": "markdown",
   "metadata": {},
   "source": [
    "# Resampling of particles"
   ]
  },
  {
   "cell_type": "code",
   "execution_count": 8,
   "metadata": {},
   "outputs": [],
   "source": [
    "def resampling(x_p, likelihood, ess_thresh):\n",
    "    '''\n",
    "    Arguments:\n",
    "        x_p: state vectors of the particles (= [[x, y, theta], ...], shape of [n, 3])\n",
    "        likelihood: likelihoods of the particles (= [w1, w2, ...], shape of [n,])\n",
    "    Return\n",
    "        state vectors of the resampled particles (same size w/ x_p)\n",
    "        likelihoods of the resampled particles (same size w/ likelihood)\n",
    "    '''\n",
    "    \n",
    "    ess = np.reciprocal(likelihood @ likelihood.T)\n",
    "    \n",
    "    if ess >= ess_thresh:\n",
    "        return x_p, likelihood\n",
    "    \n",
    "    n = x_p.shape[0]\n",
    "    \n",
    "    likelihood_cum = np.cumsum(likelihood)\n",
    "    resample_id = np.arange(0.0, 1.0, 1.0 / float(n)) + np.random.rand() / float(n)\n",
    "    \n",
    "    x_p_orig = np.copy(x_p)\n",
    "    \n",
    "    idx = 0\n",
    "    for i in range(n):\n",
    "        while resample_id[i] > likelihood_cum[idx]:\n",
    "            idx += 1\n",
    "        x_p[i] = x_p_orig[idx]\n",
    "    \n",
    "    likelihood = np.repeat(1.0 / float(n), n)\n",
    "    \n",
    "    return x_p, likelihood"
   ]
  },
  {
   "cell_type": "code",
   "execution_count": null,
   "metadata": {},
   "outputs": [],
   "source": []
  }
 ],
 "metadata": {
  "kernelspec": {
   "display_name": "conda3__pfilter",
   "language": "python",
   "name": "conda3__pfilter"
  },
  "language_info": {
   "codemirror_mode": {
    "name": "ipython",
    "version": 3
   },
   "file_extension": ".py",
   "mimetype": "text/x-python",
   "name": "python",
   "nbconvert_exporter": "python",
   "pygments_lexer": "ipython3",
   "version": "3.5.5"
  }
 },
 "nbformat": 4,
 "nbformat_minor": 2
}
